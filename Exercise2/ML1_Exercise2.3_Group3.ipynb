{
 "cells": [
  {
   "cell_type": "markdown",
   "metadata": {},
   "source": [
    "# Machine Learning Exercise 2.3,\n",
    "### Task A\n",
    "\n",
    "We begin importing the necessary libraries:"
   ]
  },
  {
   "cell_type": "code",
   "execution_count": 31,
   "metadata": {},
   "outputs": [],
   "source": [
    "import numpy as np\n",
    "import matplotlib.pyplot as plt\n",
    "from math import sqrt"
   ]
  },
  {
   "cell_type": "markdown",
   "metadata": {},
   "source": [
    "Now we generate **N=100** random datapoints using a normal distribution"
   ]
  },
  {
   "cell_type": "code",
   "execution_count": 32,
   "metadata": {},
   "outputs": [],
   "source": [
    "N = 100\n",
    "mu = 20\n",
    "variance = 4\n",
    "sigma = sqrt(variance)\n",
    "\n",
    "normalDistribution = np.random.normal(mu,sigma,N)"
   ]
  },
  {
   "cell_type": "markdown",
   "metadata": {},
   "source": [
    "The normal distribution sample is plotted as scatter plot and the probability distribution as bins approximated.\n",
    "\n",
    "**Sampling formula:**\n",
    "$ p(x_i)=\\frac{n_i}{N\\cdot \\Delta _{i}} $"
   ]
  },
  {
   "cell_type": "code",
   "execution_count": 33,
   "metadata": {},
   "outputs": [
    {
     "data": {
      "text/plain": [
       "[<matplotlib.lines.Line2D at 0x1823a9d4130>]"
      ]
     },
     "execution_count": 33,
     "metadata": {},
     "output_type": "execute_result"
    },
    {
     "data": {
      "image/png": "[encoded data removed]",
      "text/plain": [
       "<Figure size 640x480 with 1 Axes>"
      ]
     },
     "metadata": {},
     "output_type": "display_data"
    }
   ],
   "source": [
    "Bins = 10\n",
    "x = np.linspace(np.min(normalDistribution),np.max(normalDistribution),Bins)\n",
    "delta = (np.diff(x))[0]\n",
    "\n",
    "normalDistribution_sample = []\n",
    "\n",
    "for i in range(len(x)-1):\n",
    "    a = (normalDistribution >= x[i])\n",
    "    b = (normalDistribution < x[i+1])\n",
    "    \n",
    "    ab = [a[i] and b[i] for i in range(len(a))]    \n",
    "    n_i = len(np.where(ab)[0])\n",
    "    \n",
    "    normalDistribution_sample.append(n_i/(N*delta))\n",
    "\n",
    "plt.hist(normalDistribution, Bins, density=True)\n",
    "plt.plot(x[:-1]+delta/2, normalDistribution_sample)\n"
   ]
  },
  {
   "cell_type": "markdown",
   "metadata": {},
   "source": [
    "### Task B: Calculate Max Likelihood perameters\n",
    "\n",
    "We compute for parameters $ \\mu^{*} $ and $ (\\sigma^{2}) $ for the 100 previously generated datapoints.\n",
    "\n",
    "$ \\mu = \\frac{1}{N}\\sum_{i=1}^{N} (x_i).  $\n",
    "\n",
    "$ \\sigma^{2} = \\frac{1}{N}\\sum_{i=1}^{N} (x_i - \\mu)^{2}.  $"
   ]
  },
  {
   "cell_type": "code",
   "execution_count": 34,
   "metadata": {},
   "outputs": [
    {
     "name": "stdout",
     "output_type": "stream",
     "text": [
      "mu=  19.916460891895532  sigma=  3.9082134025815463\n"
     ]
    }
   ],
   "source": [
    "mu_asterisk = (1/N) * np.sum(normalDistribution)\n",
    "variance2 = (1/N) * np.sum((normalDistribution - mu_asterisk)**2)\n",
    "\n",
    "print(\"mu= \",mu_asterisk,\" sigma= \", variance2)"
   ]
  },
  {
   "cell_type": "markdown",
   "metadata": {},
   "source": [
    "### Task C\n",
    "\n",
    "The generating parameters of Task A can't be recovered exactly. This is due to the limited and discrete nature of the dataset, that doesn't have enough datapoints for a perfect estimation of mu and sigma using the formula."
   ]
  },
  {
   "cell_type": "markdown",
   "metadata": {},
   "source": [
    "### Task D\n",
    "\n",
    "For larger N values better and better approximations of the generating parameters are obtained.\n",
    "\n",
    "For smaller N values, the mean and variance observe less exact values and there is a higher mean error in those values."
   ]
  }
 ],
 "metadata": {
  "kernelspec": {
   "display_name": "base",
   "language": "python",
   "name": "python3"
  },
  "language_info": {
   "codemirror_mode": {
    "name": "ipython",
    "version": 3
   },
   "file_extension": ".py",
   "mimetype": "text/x-python",
   "name": "python",
   "nbconvert_exporter": "python",
   "pygments_lexer": "ipython3",
   "version": "3.9.13"
  },
  "orig_nbformat": 4,
  "vscode": {
   "interpreter": {
    "hash": "744330a1bd1da4938e3ee6ced885f86ba9e3867e12b6bf3c725cfc3e4b111804"
   }
  }
 },
 "nbformat": 4,
 "nbformat_minor": 2
}
